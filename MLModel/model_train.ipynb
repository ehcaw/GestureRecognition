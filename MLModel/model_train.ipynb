{
 "cells": [
  {
   "cell_type": "code",
   "execution_count": 1,
   "metadata": {
    "ExecuteTime": {
     "end_time": "2024-04-16T06:21:43.520343300Z",
     "start_time": "2024-04-16T06:21:42.055506100Z"
    }
   },
   "outputs": [],
   "source": [
    "import matplotlib.pyplot as plt\n",
    "import seaborn as sns\n",
    "import pandas as pd\n",
    "import cv2\n",
    "from sklearn.metrics import f1_score\n",
    "import torch\n",
    "from torch import nn\n",
    "from torch.utils.data import Dataset\n",
    "import numpy as np"
   ]
  },
  {
   "cell_type": "code",
   "outputs": [],
   "source": [
    "class GestureDataset(Dataset):\n",
    "    def __init__(self,csv,train=True):\n",
    "        #read from the given dataset with pandas\n",
    "        self.csv=pd.read_csv(csv)\n",
    "        self.train=train\n",
    "        #split label and pixels\n",
    "        self.images=torch.zeros((self.csv.shape[0],1))\n",
    "        #for each column of pixels, we turn it into a tensor with dimension 1 and concatenate to images\n",
    "        for i in range(1,785):\n",
    "            temp_text=\"pixel\"+str(i)\n",
    "            temp=self.csv[temp_text]\n",
    "            temp=torch.FloatTensor(temp).unsqueeze(1)\n",
    "            self.images=torch.cat((self.images,temp),1)\n",
    "        self.labels=self.csv[\"label\"]\n",
    "        self.images=self.images[:,1:]\n",
    "        #keep all the rows but convert the pixels of each row into 28x28 2D image\n",
    "        self.images=self.images.view(-1,28,28)\n",
    "        \n",
    "    #take row number of the image\n",
    "    def __getitem__(self,index):\n",
    "        #grab the image and convert it to a NumPy array\n",
    "        img=self.images[index]\n",
    "        img=img.numpy()\n",
    "        img=cv2.resize(img,(224,224))\n",
    "        #convert back into float tensors and add an extra dimension\n",
    "        tensor_image=torch.FloatTensor(img).unsqueeze(0)\n",
    "        #keep grayscale values between 0 and 1 to be more efficient\n",
    "        tensor_image= tensor_image/255\n",
    "        #if we are using the training data then we also want to keep what letter the image is supposed to be\n",
    "        if self.train:\n",
    "            return tensor_image,self.labels[index]\n",
    "        else:\n",
    "            return tensor_image\n",
    "    def __len__(self):\n",
    "        return self.images.shape[0]\n"
   ],
   "metadata": {
    "collapsed": false,
    "ExecuteTime": {
     "end_time": "2024-04-16T06:21:43.528854Z",
     "start_time": "2024-04-16T06:21:43.521343800Z"
    }
   },
   "execution_count": 2
  },
  {
   "cell_type": "code",
   "execution_count": 3,
   "metadata": {
    "ExecuteTime": {
     "end_time": "2024-04-16T06:21:44.351627900Z",
     "start_time": "2024-04-16T06:21:44.346531200Z"
    }
   },
   "outputs": [],
   "source": [
    "class SignLanguageCNN(nn.Module):\n",
    "    def __init__(self):\n",
    "        super(SignLanguageCNN, self).__init__()\n",
    "        # first layer\n",
    "        self.Conv1 = nn.Sequential(nn.Conv2d(1,32,5),nn.MaxPool2d(2),nn.ReLU(),nn.BatchNorm2d(32))\n",
    "        # second layer\n",
    "        self.Conv2 = nn.Sequential(nn.Conv2d(32,64,5),nn.MaxPool2d(2),nn.ReLU(),nn.BatchNorm2d(64))\n",
    "        # third layer\n",
    "        self.Conv3 = nn.Sequential(nn.Conv2d(64,128,3),nn.MaxPool2d(2),nn.ReLU(),nn.BatchNorm2d(128))\n",
    "        #fourth layer\n",
    "        self.Conv4 = nn.Sequential(nn.Conv2d(128,256,3),nn.MaxPool2d(2),nn.ReLU(),nn.BatchNorm2d(256))\n",
    "        #fifth layer\n",
    "        self.Conv5 = nn.Sequential(nn.Conv2d(256,512,3),nn.MaxPool2d(2),nn.ReLU(),nn.BatchNorm2d(512))\n",
    "\n",
    "        self.Linear1 = nn.Linear(512*4*4,256)\n",
    "        self.dropout = nn.Dropout(0.1)\n",
    "        self.Linear3 = nn.Linear(256,25)\n",
    "\n",
    "    def forward(self, x):\n",
    "        x = self.Conv1(x)\n",
    "        x = self.Conv2(x)\n",
    "        x = self.Conv3(x)\n",
    "        x = self.Conv4(x)\n",
    "        x=self.dropout(x)\n",
    "        x = self.Conv5(x)\n",
    "        x = x.view(x.size(0), -1)\n",
    "        x = self.Linear1(x)\n",
    "        x = self.dropout(x)\n",
    "        x = self.Linear3(x)\n",
    "        return x"
   ]
  },
  {
   "cell_type": "code",
   "outputs": [],
   "source": [
    "#load data from train and test files\n",
    "train_data = GestureDataset(\"dataset/sign_mnist_train.csv\")\n",
    "test_data = GestureDataset(\"dataset/sign_mnist_test.csv\")\n",
    "\n",
    "#use pytorch dataloader to create images for training\n",
    "train_loader=torch.utils.data.DataLoader(dataset=train_data,batch_size=128,num_workers=0,shuffle=True)\n",
    "test_loader=torch.utils.data.DataLoader(dataset=test_data,batch_size=64,num_workers=0,shuffle=True)"
   ],
   "metadata": {
    "collapsed": false,
    "ExecuteTime": {
     "end_time": "2024-04-16T06:21:53.592349Z",
     "start_time": "2024-04-16T06:21:45.787457500Z"
    }
   },
   "execution_count": 4
  },
  {
   "cell_type": "code",
   "outputs": [],
   "source": [
    "#function to validate and check the accuracy and f1 score of the model\n",
    "def validate(val_loader,model):\n",
    "    model.eval()\n",
    "    test_labels=[0]\n",
    "    test_pred=[0]\n",
    "    for i, (images,labels) in enumerate(val_loader):\n",
    "        outputs=model(images.to(\"cuda\"))\n",
    "        predicted = torch.softmax(outputs,dim=1)\n",
    "        _,predicted=torch.max(predicted, 1)\n",
    "        test_pred.extend(list(predicted.data.cpu().numpy()))\n",
    "        test_labels.extend(list(labels.data.cpu().numpy()))\n",
    "\n",
    "    test_pred=np.array(test_pred[1:])\n",
    "    test_labels=np.array(test_labels[1:])\n",
    "    correct=(test_pred==test_labels).sum()\n",
    "    accuracy=correct/len(test_labels)\n",
    "    f1_test=f1_score(test_labels,test_pred,average=\"weighted\")\n",
    "    model.train()\n",
    "    return accuracy,f1_test "
   ],
   "metadata": {
    "collapsed": false,
    "ExecuteTime": {
     "end_time": "2024-04-16T06:21:55.157662100Z",
     "start_time": "2024-04-16T06:21:55.149654700Z"
    }
   },
   "execution_count": 5
  },
  {
   "cell_type": "code",
   "outputs": [
    {
     "name": "stdout",
     "output_type": "stream",
     "text": [
      "------------------------------------------------------------------------------------------------------\n",
      "Epoch 0/20, Training F1: 1.0000, Validation Accuracy: 0.9434, Validation F1: 0.9416\n",
      "------------------------------------------------------------------------------------------------------\n",
      "Epoch 1/20, Training F1: 1.0000, Validation Accuracy: 0.9459, Validation F1: 0.9444\n",
      "------------------------------------------------------------------------------------------------------\n",
      "Epoch 2/20, Training F1: 1.0000, Validation Accuracy: 0.9456, Validation F1: 0.9440\n",
      "------------------------------------------------------------------------------------------------------\n",
      "Epoch 3/20, Training F1: 1.0000, Validation Accuracy: 0.9465, Validation F1: 0.9450\n",
      "------------------------------------------------------------------------------------------------------\n",
      "Epoch 4/20, Training F1: 1.0000, Validation Accuracy: 0.9460, Validation F1: 0.9446\n",
      "------------------------------------------------------------------------------------------------------\n",
      "Epoch 5/20, Training F1: 1.0000, Validation Accuracy: 0.9476, Validation F1: 0.9461\n",
      "------------------------------------------------------------------------------------------------------\n",
      "Epoch 6/20, Training F1: 1.0000, Validation Accuracy: 0.9470, Validation F1: 0.9456\n",
      "------------------------------------------------------------------------------------------------------\n",
      "Epoch 7/20, Training F1: 1.0000, Validation Accuracy: 0.9474, Validation F1: 0.9460\n",
      "------------------------------------------------------------------------------------------------------\n",
      "Epoch 8/20, Training F1: 1.0000, Validation Accuracy: 0.9476, Validation F1: 0.9462\n",
      "------------------------------------------------------------------------------------------------------\n",
      "Epoch 9/20, Training F1: 1.0000, Validation Accuracy: 0.9483, Validation F1: 0.9469\n",
      "------------------------------------------------------------------------------------------------------\n",
      "Epoch 10/20, Training F1: 1.0000, Validation Accuracy: 0.9483, Validation F1: 0.9470\n",
      "------------------------------------------------------------------------------------------------------\n",
      "Epoch 11/20, Training F1: 1.0000, Validation Accuracy: 0.9488, Validation F1: 0.9476\n",
      "------------------------------------------------------------------------------------------------------\n",
      "Epoch 12/20, Training F1: 1.0000, Validation Accuracy: 0.9488, Validation F1: 0.9476\n",
      "------------------------------------------------------------------------------------------------------\n",
      "Epoch 13/20, Training F1: 1.0000, Validation Accuracy: 0.9508, Validation F1: 0.9495\n",
      "------------------------------------------------------------------------------------------------------\n",
      "Epoch 14/20, Training F1: 1.0000, Validation Accuracy: 0.9501, Validation F1: 0.9488\n",
      "------------------------------------------------------------------------------------------------------\n",
      "Epoch 15/20, Training F1: 1.0000, Validation Accuracy: 0.9498, Validation F1: 0.9486\n",
      "------------------------------------------------------------------------------------------------------\n",
      "Epoch 16/20, Training F1: 1.0000, Validation Accuracy: 0.9492, Validation F1: 0.9481\n",
      "------------------------------------------------------------------------------------------------------\n",
      "Epoch 17/20, Training F1: 1.0000, Validation Accuracy: 0.9497, Validation F1: 0.9485\n",
      "------------------------------------------------------------------------------------------------------\n",
      "Epoch 18/20, Training F1: 1.0000, Validation Accuracy: 0.9501, Validation F1: 0.9489\n",
      "------------------------------------------------------------------------------------------------------\n",
      "Epoch 19/20, Training F1: 1.0000, Validation Accuracy: 0.9502, Validation F1: 0.9491\n",
      "------------------------------------------------------------------------------------------------------\n",
      "Epoch 20/20, Training F1: 1.0000, Validation Accuracy: 0.9494, Validation F1: 0.9482\n"
     ]
    }
   ],
   "source": [
    "model=SignLanguageCNN()\n",
    "model=model.to(\"cuda\")\n",
    "model.train()\n",
    "checkpoint=None\n",
    "learning_rate=1e-3\n",
    "#train for 20 epochs\n",
    "start_epoch=0\n",
    "end_epoch=20\n",
    "criterion = nn.CrossEntropyLoss().to(\"cuda\")\n",
    "optimizer = torch.optim.Adam(model.parameters(), lr=learning_rate)\n",
    "scheduler = torch.optim.lr_scheduler.ReduceLROnPlateau(optimizer, patience=2, factor=0.5, min_lr=1e-6)\n",
    "if checkpoint:\n",
    "    model.load_state_dict(torch.load(checkpoint)['state_dict'])\n",
    "    start_epoch=torch.load(checkpoint)['epoch']\n",
    "for epoch in range(start_epoch,end_epoch+1):\n",
    "    for i, (images,labels) in enumerate(train_loader):\n",
    "        outputs = model(images.to(\"cuda\"))\n",
    "        loss = criterion(outputs.to(\"cuda\"),labels.to(\"cuda\"))\n",
    "        optimizer.zero_grad()\n",
    "        loss.backward()\n",
    "        optimizer.step()\n",
    "        predicted = torch.softmax(outputs,dim=1)\n",
    "        _,predicted = torch.max(predicted, 1)\n",
    "        f1 = f1_score(labels.cpu().numpy(),predicted.cpu().numpy(),average=\"weighted\")\n",
    "    test_accuracy,test_f1 = validate(test_loader,model)\n",
    "    print(\"------------------------------------------------------------------------------------------------------\")\n",
    "    print(f\"Epoch {epoch}/{end_epoch}, Training F1: {f1:.4f}, Validation Accuracy: {test_accuracy:.4f}, Validation F1: {test_f1:.4f}\")\n",
    "    scheduler.step(test_accuracy)"
   ],
   "metadata": {
    "collapsed": false,
    "ExecuteTime": {
     "end_time": "2024-04-16T06:32:46.063038600Z",
     "start_time": "2024-04-16T06:22:26.391443500Z"
    }
   },
   "execution_count": 7
  },
  {
   "cell_type": "code",
   "outputs": [],
   "source": [
    "# Save the model\n",
    "#saves all part of the model so you can continue training\n",
    "torch.save({\n",
    "'epoch': epoch, 'state_dict': model.state_dict(), 'optimizer' : optimizer.state_dict()},\"SignLanguageModel.pt\")"
   ],
   "metadata": {
    "collapsed": false,
    "ExecuteTime": {
     "end_time": "2024-04-16T06:33:05.055484700Z",
     "start_time": "2024-04-16T06:33:05.007236400Z"
    }
   },
   "execution_count": 8
  },
  {
   "cell_type": "code",
   "outputs": [],
   "source": [],
   "metadata": {
    "collapsed": false
   }
  }
 ],
 "metadata": {
  "kernelspec": {
   "display_name": "my_env",
   "language": "python",
   "name": "python3"
  },
  "language_info": {
   "codemirror_mode": {
    "name": "ipython",
    "version": 3
   },
   "file_extension": ".py",
   "mimetype": "text/x-python",
   "name": "python",
   "nbconvert_exporter": "python",
   "pygments_lexer": "ipython3",
   "version": "3.10.13"
  }
 },
 "nbformat": 4,
 "nbformat_minor": 2
}
