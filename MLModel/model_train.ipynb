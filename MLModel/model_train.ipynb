{
 "cells": [
  {
   "cell_type": "code",
   "execution_count": null,
   "metadata": {},
   "outputs": [],
   "source": [
    "import matplotlib.pyplot as plt\n",
    "import seaborn as sns\n",
    "import pandas as pd\n",
    "\n",
    "\n",
    "train = pd.read_csv(\"dataset/sign_mnist_train.csv\")\n",
    "test = pd.read_csv(\"dataset/sign_mnist_test.csv\")\n",
    "\n",
    "label_train = train[\"label\"]\n",
    "label_test = train[\"label\"]\n",
    "\n",
    "from sklearn.preprocessing import LabelBinarizer\n",
    "lb = LabelBinarizer()\n",
    "\n",
    "#converting labels to binary for more efficient training\n",
    "label_train = lb.fit_transform(label_train)\n",
    "label_test = lb.fit_transform(label_test)\n",
    "\n",
    "image_train = label_train.values\n",
    "image_test = label_train.test\n",
    "\n",
    "\n",
    "# dividing pixel values to keeop them between 0 and 1 for efficient training\n",
    "image_train /= 255\n",
    "image_test /= 255\n",
    "\n",
    "image_train = image_train.reshape(-1, 28, 28, 1)\n",
    "image_test = image_test.reshape(-1, 28, 28, 1)\n"
   ]
  },
  {
   "cell_type": "code",
   "execution_count": null,
   "metadata": {},
   "outputs": [],
   "source": [
    "# creating the custom CNN class\n",
    "\n",
    "import torch\n",
    "import torch.nn as nn\n",
    "\n",
    "class signCNN(nn.Module):\n",
    "  def __init__(self, numChannels, classes):\n",
    "    super(signCNN, self).__init__()\n",
    "    #first set\n",
    "    self.conv1 = nn.Conv2d(in_channels=numChannels, out_chanels = 20,\n",
    "                        kernel_size = (5,5))\n",
    "    self.relu1 = nn.ReLU()\n",
    "    self.maxpool1 = nn.MaxPool2d(kernel_size=(2,2), stride=(2,2))\n",
    "\n",
    "    #second set\n",
    "    self.conv2 = nn.Conv2d(in_channels=numChannels, out_chanels = 50,\n",
    "                        kernel_size = (5,5))\n",
    "    self.relu2 = nn.ReLU()\n",
    "    self.maxpool2 = nn.MaxPool2d(kernel_size=(2,2), stride=(2,2))\n",
    "\n",
    "    self.fc1 = nn.Linear(in_features = 800, out_features=500)\n",
    "    self.relu3=nn.ReLU()\n",
    "\n",
    "    self.fc2 = nn.Linear(in_features=500, out_features=classes)\n",
    "    self.logSoftmax = nn.LogSoftmax(dim = 1)\n",
    "  def forward(self, x):\n",
    "    x = self.conv1(x)\n",
    "    x = self.relu1(x)\n",
    "    x = self.maxpool1(x) \n",
    "\n",
    "    x=self.conv2(x)u"
   ]
  }
 ],
 "metadata": {
  "language_info": {
   "name": "python"
  }
 },
 "nbformat": 4,
 "nbformat_minor": 2
}
